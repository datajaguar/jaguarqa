{
 "cells": [
  {
   "cell_type": "code",
   "execution_count": 2,
   "metadata": {
    "collapsed": false
   },
   "outputs": [
    {
     "name": "stdout",
     "output_type": "stream",
     "text": [
      "Requirement already satisfied: pixiedust in /home/dev2/software/anaconda2/lib/python2.7/site-packages\r\n",
      "Requirement already satisfied: lxml in /home/dev2/software/anaconda2/lib/python2.7/site-packages (from pixiedust)\r\n",
      "Requirement already satisfied: geojson in /home/dev2/software/anaconda2/lib/python2.7/site-packages (from pixiedust)\r\n",
      "Requirement already satisfied: mpld3 in /home/dev2/software/anaconda2/lib/python2.7/site-packages (from pixiedust)\r\n"
     ]
    }
   ],
   "source": [
    "# Download the lib by:\n",
    "!pip install pixiedust"
   ]
  },
  {
   "cell_type": "code",
   "execution_count": 3,
   "metadata": {
    "collapsed": false
   },
   "outputs": [
    {
     "name": "stdout",
     "output_type": "stream",
     "text": [
      "Pixiedust database opened successfully\n",
      "Table VERSION_TRACKER created successfully\n"
     ]
    },
    {
     "data": {
      "text/html": [
       "\n",
       "        <div style=\"margin:10px\">\n",
       "            <a href=\"https://github.com/ibm-cds-labs/pixiedust\" target=\"_new\">\n",
       "                <img src=\"https://github.com/ibm-cds-labs/pixiedust/raw/master/docs/_static/pd_icon32.png\" style=\"float:left;margin-right:10px\"/>\n",
       "            </a>\n",
       "            <span>Pixiedust version 1.0.6</span>\n",
       "        </div>\n",
       "        "
      ],
      "text/plain": [
       "<IPython.core.display.HTML object>"
      ]
     },
     "metadata": {},
     "output_type": "display_data"
    },
    {
     "name": "stdout",
     "output_type": "stream",
     "text": [
      "Pixiedust runtime updated. Please restart kernel\n",
      "Table USER_PREFERENCES created successfully\n",
      "Table service_connections created successfully\n"
     ]
    }
   ],
   "source": [
    "import pixiedust"
   ]
  },
  {
   "cell_type": "code",
   "execution_count": 5,
   "metadata": {
    "collapsed": false
   },
   "outputs": [
    {
     "name": "stdout",
     "output_type": "stream",
     "text": [
      "Requirement already up-to-date: pixiedust in /home/dev2/software/anaconda2/lib/python2.7/site-packages\n",
      "Requirement already up-to-date: lxml in /home/dev2/software/anaconda2/lib/python2.7/site-packages (from pixiedust)\n",
      "Requirement already up-to-date: geojson in /home/dev2/software/anaconda2/lib/python2.7/site-packages (from pixiedust)\n",
      "Requirement already up-to-date: mpld3 in /home/dev2/software/anaconda2/lib/python2.7/site-packages (from pixiedust)\n"
     ]
    }
   ],
   "source": [
    "!pip install --upgrade pixiedust"
   ]
  },
  {
   "cell_type": "code",
   "execution_count": 7,
   "metadata": {
    "collapsed": true
   },
   "outputs": [],
   "source": [
    "import pixiedust\n"
   ]
  },
  {
   "cell_type": "code",
   "execution_count": 9,
   "metadata": {
    "collapsed": false
   },
   "outputs": [],
   "source": [
    "#df = pixiedust.sampleData(\"https://data.sfgov.org/api/views/vv57-2fgy/rows.csv?accessType=DOWNLOAD\")"
   ]
  },
  {
   "cell_type": "code",
   "execution_count": null,
   "metadata": {
    "collapsed": true
   },
   "outputs": [],
   "source": []
  }
 ],
 "metadata": {
  "kernelspec": {
   "display_name": "Python 2",
   "language": "python",
   "name": "python2"
  },
  "language_info": {
   "codemirror_mode": {
    "name": "ipython",
    "version": 2
   },
   "file_extension": ".py",
   "mimetype": "text/x-python",
   "name": "python",
   "nbconvert_exporter": "python",
   "pygments_lexer": "ipython2",
   "version": "2.7.13"
  }
 },
 "nbformat": 4,
 "nbformat_minor": 2
}
