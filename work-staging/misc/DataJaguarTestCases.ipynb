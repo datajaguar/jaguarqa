{
 "cells": [
  {
   "cell_type": "markdown",
   "metadata": {},
   "source": [
    "# Performance test cases(DataJaguar VS Cassandra)"
   ]
  },
  {
   "cell_type": "markdown",
   "metadata": {},
   "source": [
    "## Preparations"
   ]
  },
  {
   "cell_type": "code",
   "execution_count": 37,
   "metadata": {},
   "outputs": [
    {
     "name": "stdout",
     "output_type": "stream",
     "text": [
      "-rwxrwxr-x 1 dev2 dev2  755 Jun  1 12:38 select_count_forever_jaguar_callinfo_jbench.sh\n",
      "-rwxrwxr-x 1 dev2 dev2  583 Jun 14 11:20 select_count_forever_jaguar_callinfo.sh\n",
      "-rwxrwxrwx 1 dev2 dev2  314 May 31 15:30 select_count_forever_jaguar-jbench.sh\n",
      "-rw-rw-r-- 1 dev2 dev2   57 May 24 17:28 select.sql\n",
      "-rw-rw-r-- 1 dev2 dev2 1407 Apr 25 13:21 server.conf\n"
     ]
    }
   ],
   "source": [
    "%%bash \n",
    "cd /home/dev2/t\n",
    "ls -l se*"
   ]
  },
  {
   "cell_type": "code",
   "execution_count": null,
   "metadata": {},
   "outputs": [],
   "source": []
  },
  {
   "cell_type": "code",
   "execution_count": 6,
   "metadata": {},
   "outputs": [],
   "source": [
    "# Libraries used:\n",
    "%matplotlib inline\n",
    "from  pandas import *\n",
    "import pandas as pd\n",
    "import matplotlib.pyplot as plt\n"
   ]
  },
  {
   "cell_type": "code",
   "execution_count": 9,
   "metadata": {},
   "outputs": [],
   "source": [
    "import numpy\n",
    "import matplotlib\n",
    "\n",
    "from numpy import array, cos, linspace, mgrid, pi, sin, sqrt\n",
    "from numpy.random import rand, randn\n",
    "from matplotlib.pyplot import (clf, close, colorbar, figure, \n",
    "                               grid, hold, imshow, legend, \n",
    "                               plot, scatter, show, subplot, \n",
    "                               title, xlabel, ylabel, )\n",
    "from matplotlib import cm\n",
    "import matplotlib.pyplot as plt"
   ]
  },
  {
   "cell_type": "code",
   "execution_count": null,
   "metadata": {},
   "outputs": [],
   "source": [
    "ex.py"
   ]
  },
  {
   "cell_type": "code",
   "execution_count": 12,
   "metadata": {},
   "outputs": [
    {
     "name": "stdout",
     "output_type": "stream",
     "text": [
      "  Insert Rows  Cassandra  Jaguar\n",
      "0      10,000         17     0.1\n",
      "1     100,000        180     1.0\n",
      "2     500,000        887    43.0\n",
      "3   1,000,000       1820   105.0\n",
      "4  10,000,000      18000  1045.0\n",
      "5  30,000,000      52200  5226.0\n"
     ]
    }
   ],
   "source": [
    "# anno_stat_result_170216.csv\n",
    "#anno_result = pd.read_csv('../result/anno_stat_result.csv', delimiter = ' ')\n",
    "# PATH=\"/mnt/AGZ1/GD_AGZ1117/AGZ_Home/workspace_pOD/ipython/data\"\n",
    "\n",
    "data1 = pd.read_csv('/home/dev2/software/Andrew/Performance_Jaguar-Cassandra-Insert.csv', delimiter = ',')\n",
    "#anno_result = pd.read_csv('/mnt/AGZ_Home_vmwin10/workspace_pOD/genia/Andrew/GPU_TEST_HOME/result/anno_stat_result_170216.csv', delimiter = ' ')\n",
    "print(data1)"
   ]
  },
  {
   "cell_type": "code",
   "execution_count": 16,
   "metadata": {},
   "outputs": [
    {
     "data": {
      "text/html": [
       "<div>\n",
       "<table border=\"1\" class=\"dataframe\">\n",
       "  <thead>\n",
       "    <tr style=\"text-align: right;\">\n",
       "      <th></th>\n",
       "      <th>Insert Rows</th>\n",
       "      <th>Cassandra</th>\n",
       "      <th>Jaguar</th>\n",
       "    </tr>\n",
       "  </thead>\n",
       "  <tbody>\n",
       "    <tr>\n",
       "      <th>0</th>\n",
       "      <td>10,000</td>\n",
       "      <td>17</td>\n",
       "      <td>0.1</td>\n",
       "    </tr>\n",
       "    <tr>\n",
       "      <th>1</th>\n",
       "      <td>100,000</td>\n",
       "      <td>180</td>\n",
       "      <td>1.0</td>\n",
       "    </tr>\n",
       "    <tr>\n",
       "      <th>2</th>\n",
       "      <td>500,000</td>\n",
       "      <td>887</td>\n",
       "      <td>43.0</td>\n",
       "    </tr>\n",
       "    <tr>\n",
       "      <th>3</th>\n",
       "      <td>1,000,000</td>\n",
       "      <td>1820</td>\n",
       "      <td>105.0</td>\n",
       "    </tr>\n",
       "    <tr>\n",
       "      <th>4</th>\n",
       "      <td>10,000,000</td>\n",
       "      <td>18000</td>\n",
       "      <td>1045.0</td>\n",
       "    </tr>\n",
       "    <tr>\n",
       "      <th>5</th>\n",
       "      <td>30,000,000</td>\n",
       "      <td>52200</td>\n",
       "      <td>5226.0</td>\n",
       "    </tr>\n",
       "  </tbody>\n",
       "</table>\n",
       "</div>"
      ],
      "text/plain": [
       "  Insert Rows  Cassandra  Jaguar\n",
       "0      10,000         17     0.1\n",
       "1     100,000        180     1.0\n",
       "2     500,000        887    43.0\n",
       "3   1,000,000       1820   105.0\n",
       "4  10,000,000      18000  1045.0\n",
       "5  30,000,000      52200  5226.0"
      ]
     },
     "execution_count": 16,
     "metadata": {},
     "output_type": "execute_result"
    }
   ],
   "source": [
    "pd.options.display.max_colwidth = 140\n",
    "data1_df = DataFrame(data1)\n",
    "#data1_df.head()\n",
    "data1_df"
   ]
  },
  {
   "cell_type": "code",
   "execution_count": 18,
   "metadata": {},
   "outputs": [
    {
     "data": {
      "text/plain": [
       "0        10,000\n",
       "1       100,000\n",
       "2       500,000\n",
       "3     1,000,000\n",
       "4    10,000,000\n",
       "5    30,000,000\n",
       "Name: Insert Rows, dtype: object"
      ]
     },
     "execution_count": 18,
     "metadata": {},
     "output_type": "execute_result"
    }
   ],
   "source": [
    "data1_df['Insert Rows']"
   ]
  },
  {
   "cell_type": "code",
   "execution_count": 22,
   "metadata": {},
   "outputs": [
    {
     "data": {
      "text/plain": [
       "<matplotlib.axes._subplots.AxesSubplot at 0x7f60a7871990>"
      ]
     },
     "execution_count": 22,
     "metadata": {},
     "output_type": "execute_result"
    },
    {
     "data": {
      "image/png": "[encoded data removed]",
      "text/plain": [
       "<matplotlib.figure.Figure at 0x7f60a77dfd50>"
      ]
     },
     "metadata": {},
     "output_type": "display_data"
    }
   ],
   "source": [
    "#plt.hist(data1_df['Insert Rows'], color='r')\n",
    "#data1_df.plot(kind='hist', stacked=True, bins=20)\n",
    "data1_df.plot(kind='hist')"
   ]
  },
  {
   "cell_type": "code",
   "execution_count": 27,
   "metadata": {},
   "outputs": [
    {
     "data": {
      "text/html": [
       "<div>\n",
       "<table border=\"1\" class=\"dataframe\">\n",
       "  <thead>\n",
       "    <tr style=\"text-align: right;\">\n",
       "      <th></th>\n",
       "      <th>Insert Rows</th>\n",
       "      <th>Cassandra</th>\n",
       "      <th>Jaguar</th>\n",
       "    </tr>\n",
       "  </thead>\n",
       "  <tbody>\n",
       "    <tr>\n",
       "      <th>0</th>\n",
       "      <td>10,000</td>\n",
       "      <td>17</td>\n",
       "      <td>0.1</td>\n",
       "    </tr>\n",
       "    <tr>\n",
       "      <th>1</th>\n",
       "      <td>100,000</td>\n",
       "      <td>180</td>\n",
       "      <td>1.0</td>\n",
       "    </tr>\n",
       "    <tr>\n",
       "      <th>2</th>\n",
       "      <td>500,000</td>\n",
       "      <td>887</td>\n",
       "      <td>43.0</td>\n",
       "    </tr>\n",
       "    <tr>\n",
       "      <th>3</th>\n",
       "      <td>1,000,000</td>\n",
       "      <td>1820</td>\n",
       "      <td>105.0</td>\n",
       "    </tr>\n",
       "    <tr>\n",
       "      <th>4</th>\n",
       "      <td>10,000,000</td>\n",
       "      <td>18000</td>\n",
       "      <td>1045.0</td>\n",
       "    </tr>\n",
       "    <tr>\n",
       "      <th>5</th>\n",
       "      <td>30,000,000</td>\n",
       "      <td>52200</td>\n",
       "      <td>5226.0</td>\n",
       "    </tr>\n",
       "  </tbody>\n",
       "</table>\n",
       "</div>"
      ],
      "text/plain": [
       "  Insert Rows  Cassandra  Jaguar\n",
       "0      10,000         17     0.1\n",
       "1     100,000        180     1.0\n",
       "2     500,000        887    43.0\n",
       "3   1,000,000       1820   105.0\n",
       "4  10,000,000      18000  1045.0\n",
       "5  30,000,000      52200  5226.0"
      ]
     },
     "execution_count": 27,
     "metadata": {},
     "output_type": "execute_result"
    },
    {
     "data": {
      "image/png": "[encoded data removed]",
      "text/plain": [
       "<matplotlib.figure.Figure at 0x7f60a7374f10>"
      ]
     },
     "metadata": {},
     "output_type": "display_data"
    }
   ],
   "source": [
    "data1_df.plot(kind='bar');\n",
    "data1_df"
   ]
  },
  {
   "cell_type": "code",
   "execution_count": 29,
   "metadata": {},
   "outputs": [],
   "source": [
    "import plotly.plotly as py"
   ]
  },
  {
   "cell_type": "code",
   "execution_count": 42,
   "metadata": {},
   "outputs": [
    {
     "ename": "ImportError",
     "evalue": "No module named MySQLdb",
     "output_type": "error",
     "traceback": [
      "\u001b[0;31m\u001b[0m",
      "\u001b[0;31mImportError\u001b[0mTraceback (most recent call last)",
      "\u001b[0;32m<ipython-input-42-dd22983d5391>\u001b[0m in \u001b[0;36m<module>\u001b[0;34m()\u001b[0m\n\u001b[0;32m----> 1\u001b[0;31m \u001b[0;32mimport\u001b[0m \u001b[0mMySQLdb\u001b[0m\u001b[0;34m\u001b[0m\u001b[0m\n\u001b[0m",
      "\u001b[0;31mImportError\u001b[0m: No module named MySQLdb"
     ]
    }
   ],
   "source": [
    "import MySQLdb"
   ]
  }
 ],
 "metadata": {
  "kernelspec": {
   "display_name": "Python 2",
   "language": "python",
   "name": "python2"
  },
  "language_info": {
   "codemirror_mode": {
    "name": "ipython",
    "version": 2
   },
   "file_extension": ".py",
   "mimetype": "text/x-python",
   "name": "python",
   "nbconvert_exporter": "python",
   "pygments_lexer": "ipython2",
   "version": "2.7.13"
  }
 },
 "nbformat": 4,
 "nbformat_minor": 2
}
