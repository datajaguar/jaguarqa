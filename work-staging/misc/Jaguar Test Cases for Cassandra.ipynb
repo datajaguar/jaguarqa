{
 "cells": [
  {
   "cell_type": "code",
   "execution_count": 38,
   "metadata": {
    "collapsed": false
   },
   "outputs": [
    {
     "name": "stdout",
     "output_type": "stream",
     "text": [
      "az_cassandra.sql\n",
      "az_test_cassandra_acpt.sh\n",
      "Jaguar Test Cases.ipynb\n",
      "nohup.out\n",
      "start_ipython_notebook_v2_port9002.sh\n"
     ]
    }
   ],
   "source": [
    "Jaguar "
   ]
  },
  {
   "cell_type": "code",
   "execution_count": null,
   "metadata": {
    "collapsed": true
   },
   "outputs": [],
   "source": [
    "%%bash\n",
    "ls"
   ]
  },
  {
   "cell_type": "markdown",
   "metadata": {},
   "source": [
    "# Test Case 1: Insert"
   ]
  },
  {
   "cell_type": "code",
   "execution_count": 42,
   "metadata": {
    "collapsed": false
   },
   "outputs": [
    {
     "name": "stdout",
     "output_type": "stream",
     "text": [
      "Mon Jun  5 19:19:41 PDT 2017\n",
      "test.callinfo contains 1000000 rows\n",
      "Mon Jun  5 19:19:42 PDT 2017\n"
     ]
    }
   ],
   "source": [
    "%%bash\n",
    "date\n",
    "$HOME/jaguar/bin/jql -u admin -p jaguar -e \"select count(*) from test.callinfo;\"\n",
    "date"
   ]
  },
  {
   "cell_type": "code",
   "execution_count": 37,
   "metadata": {
    "collapsed": false
   },
   "outputs": [
    {
     "name": "stdout",
     "output_type": "stream",
     "text": [
      "\n",
      "drop table callinfo;\n",
      "\n",
      "\n",
      "create table callinfo ( key: lNumberKey bigint, value:  tApplyTime date, szCallNumber char(16),iHomeArea int, szStatus char(12), lMainAccountKey bigint, lAccT_balance_id bigint, lAcctid bigint, szSecond_ower_type  char(4), iBalance_Type_ID int, lAmount bigint, lInitialAmount bigint, lReserveAmount bigint, lSettleAmount bigint, szOrigin_type char(4), lOriginID bigint, szInitialType char(4), content char(16) ); \n",
      "\n",
      "TESTBEGIN\n",
      "Insert ...\n",
      "Mon Jun  5 19:04:14 PDT 2017\n",
      "Mon Jun  5 19:06:14 PDT 2017\n"
     ]
    }
   ],
   "source": [
    "%%bash\n",
    "cd  /home/dev2/t/qa\n",
    "jcallinfo_insert.sh 1000000"
   ]
  },
  {
   "cell_type": "markdown",
   "metadata": {},
   "source": [
    "## Test Case 2: Select"
   ]
  },
  {
   "cell_type": "code",
   "execution_count": null,
   "metadata": {
    "collapsed": true
   },
   "outputs": [],
   "source": [
    "# 1: select 500,000 lines\n",
    "%%bach cd /home/dev2/cassandratest\n",
    "3-select.sh 500000\n"
   ]
  },
  {
   "cell_type": "code",
   "execution_count": null,
   "metadata": {
    "collapsed": true
   },
   "outputs": [],
   "source": []
  },
  {
   "cell_type": "code",
   "execution_count": null,
   "metadata": {
    "collapsed": true
   },
   "outputs": [],
   "source": []
  },
  {
   "cell_type": "code",
   "execution_count": null,
   "metadata": {
    "collapsed": true
   },
   "outputs": [],
   "source": []
  }
 ],
 "metadata": {
  "kernelspec": {
   "display_name": "Python 2",
   "language": "python",
   "name": "python2"
  },
  "language_info": {
   "codemirror_mode": {
    "name": "ipython",
    "version": 2
   },
   "file_extension": ".py",
   "mimetype": "text/x-python",
   "name": "python",
   "nbconvert_exporter": "python",
   "pygments_lexer": "ipython2",
   "version": "2.7.13"
  }
 },
 "nbformat": 4,
 "nbformat_minor": 2
}
