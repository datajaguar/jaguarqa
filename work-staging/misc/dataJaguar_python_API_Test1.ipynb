{
 "cells": [
  {
   "cell_type": "markdown",
   "metadata": {},
   "source": [
    "# DataJaguar Python API Sample\n",
    "http://datajaguar.com/doc/JaguarUserManual.pdf"
   ]
  },
  {
   "cell_type": "code",
   "execution_count": null,
   "metadata": {
    "collapsed": false
   },
   "outputs": [],
   "source": [
    "import jaguarpy, sys"
   ]
  },
  {
   "cell_type": "code",
   "execution_count": null,
   "metadata": {},
   "outputs": [],
   "source": []
  },
  {
   "cell_type": "code",
   "execution_count": 2,
   "metadata": {
    "collapsed": false
   },
   "outputs": [
    {
     "name": "stdout",
     "output_type": "stream",
     "text": [
      "/home/dev2/software/anaconda2/bin/python\n"
     ]
    }
   ],
   "source": [
    "%%bash\n",
    "which python"
   ]
  },
  {
   "cell_type": "code",
   "execution_count": 3,
   "metadata": {
    "collapsed": true
   },
   "outputs": [
    {
     "name": "stdout",
     "output_type": "stream",
     "text": [
      "import jaguarpy, sys\n",
      "jdb = jaguarpy.Jaguar()\n",
      "rc = jdb.connect( \"192.168.7.151\", 8888, \"admin\", \"jaguar\", \"test\", \"\", 0)\n",
      "jdb.query(\"select * from jbench;\");\n",
      "while jdb.reply():\n",
      "    jdb.printRow();\n",
      "    u = jdb.getValue(\"uid\");\n",
      "    a = jdb.getValue(\"addr\");\n",
      "    ds = 'uid is ' +repr(u) + ' addr is ' + repr(a);\n",
      "    print( ds );\n",
      "\n"
     ]
    }
   ],
   "source": [
    "%%bash\n",
    "cat ex.py\n",
    "\n"
   ]
  },
  {
   "cell_type": "code",
   "execution_count": null,
   "metadata": {},
   "outputs": [],
   "source": [
    "jdb = jaguarpy.Jaguar()\n",
    "rc = jdb.connect( \"192.168.7.151\", 8888, \"admin\", \"jaguar\", \"test\", \"\", 0)\n",
    "jdb.query(\"select * from jbench;\");"
   ]
  },
  {
   "cell_type": "code",
   "execution_count": null,
   "metadata": {},
   "outputs": [],
   "source": []
  },
  {
   "cell_type": "code",
   "execution_count": 16,
   "metadata": {},
   "outputs": [],
   "source": [
    "while jdb.reply():\n",
    "    jdb.printRow();\n",
    "    u = jdb.getValue(\"uid\");\n",
    "    a = jdb.getValue(\"addr\");\n",
    "    ds = 'uid is ' +repr(u) + ' addr is ' + repr(a);\n",
    "    print( ds );"
   ]
  },
  {
   "cell_type": "code",
   "execution_count": 17,
   "metadata": {},
   "outputs": [],
   "source": [
    "jdb = jaguarpy.Jaguar()\n",
    "rc = jdb.connect( \"192.168.7.151\", 8888, \"admin\", \"jaguar\", \"test\", \"\", 0)\n",
    "jdb.query(\"select * from jbench;\");\n",
    "while jdb.reply():\n",
    "    jdb.printRow();\n",
    "    u = jdb.getValue(\"uid\");\n",
    "    a = jdb.getValue(\"addr\");\n",
    "    ds = 'uid is ' +repr(u) + ' addr is ' + repr(a);\n",
    "    print( ds );"
   ]
  },
  {
   "cell_type": "code",
   "execution_count": null,
   "metadata": {},
   "outputs": [],
   "source": []
  },
  {
   "cell_type": "code",
   "execution_count": 18,
   "metadata": {},
   "outputs": [],
   "source": [
    "%%bash \n",
    "cd /home/dev2/software/Andrew\n"
   ]
  },
  {
   "cell_type": "code",
   "execution_count": 19,
   "metadata": {},
   "outputs": [],
   "source": [
    "%run ex.py"
   ]
  },
  {
   "cell_type": "code",
   "execution_count": 22,
   "metadata": {},
   "outputs": [
    {
     "ename": "ImportError",
     "evalue": "No module named ggplot2",
     "output_type": "error",
     "traceback": [
      "\u001b[0;31m\u001b[0m",
      "\u001b[0;31mImportError\u001b[0mTraceback (most recent call last)",
      "\u001b[0;32m<ipython-input-22-1a719b66c22b>\u001b[0m in \u001b[0;36m<module>\u001b[0;34m()\u001b[0m\n\u001b[1;32m      1\u001b[0m \u001b[0;32mimport\u001b[0m \u001b[0mmatplotlib\u001b[0m\u001b[0;34m\u001b[0m\u001b[0m\n\u001b[0;32m----> 2\u001b[0;31m \u001b[0;32mimport\u001b[0m \u001b[0mggplot2\u001b[0m\u001b[0;34m\u001b[0m\u001b[0m\n\u001b[0m\u001b[1;32m      3\u001b[0m \u001b[0;31m#matplotlib.style.use('ggplot')\u001b[0m\u001b[0;34m\u001b[0m\u001b[0;34m\u001b[0m\u001b[0m\n",
      "\u001b[0;31mImportError\u001b[0m: No module named ggplot2"
     ]
    }
   ],
   "source": [
    "import matplotlib\n",
    "import ggplot2\n",
    "#matplotlib.style.use('ggplot')"
   ]
  }
 ],
 "metadata": {
  "kernelspec": {
   "display_name": "Python 2",
   "language": "python",
   "name": "python2"
  },
  "language_info": {
   "codemirror_mode": {
    "name": "ipython",
    "version": 2
   },
   "file_extension": ".py",
   "mimetype": "text/x-python",
   "name": "python",
   "nbconvert_exporter": "python",
   "pygments_lexer": "ipython2",
   "version": "2.7.13"
  }
 },
 "nbformat": 4,
 "nbformat_minor": 2
}
